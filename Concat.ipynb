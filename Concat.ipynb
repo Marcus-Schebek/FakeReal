{
  "nbformat": 4,
  "nbformat_minor": 0,
  "metadata": {
    "colab": {
      "provenance": []
    },
    "kernelspec": {
      "name": "python3",
      "display_name": "Python 3"
    },
    "language_info": {
      "name": "python"
    }
  },
  "cells": [
    {
      "cell_type": "code",
      "execution_count": null,
      "metadata": {
        "id": "c52iNhIq_orF"
      },
      "outputs": [],
      "source": [
        "import pandas as pd\n",
        "import os\n"
      ]
    },
    {
      "cell_type": "code",
      "source": [
        "def concatenar_csv(caminho_pasta='./'):\n",
        "    # Caminho completo para os arquivos CSV na pasta\n",
        "    arquivos_csv = [f for f in os.listdir(caminho_pasta) if f.endswith('.csv')]\n",
        "\n",
        "    if len(arquivos_csv) < 2:\n",
        "        print(\"Não há arquivos CSV suficientes para concatenar!\")\n",
        "        return None\n",
        "\n",
        "    # Carregar os dois arquivos CSV\n",
        "    caminho_csv1 = os.path.join(caminho_pasta, 'fato_ou_fake-Fake.csv')\n",
        "    caminho_csv2 = os.path.join(caminho_pasta, 'fato_ou_fake-Fato.csv')\n",
        "\n",
        "    # Carregar os DataFrames\n",
        "    df1 = pd.read_csv(caminho_csv1)\n",
        "    df2 = pd.read_csv(caminho_csv2)\n",
        "\n",
        "    # Limpeza no df1\n",
        "    df1 = df1[\n",
        "        (df1['titulo'] != 'título não encontrado') &\n",
        "        (df1['textos'] != 'nenhum texto em itálico encontrado')\n",
        "    ]\n",
        "\n",
        "    # Limpeza no df2\n",
        "    df2 = df2[\n",
        "        (df2['textos'] != 'corpo do artigo não encontrado')\n",
        "    ]\n",
        "\n",
        "    # Concatenar os dois DataFrames (um abaixo do outro)\n",
        "    df_concatenado = pd.concat([df1, df2], ignore_index=True)\n",
        "\n",
        "    # Renomear a coluna do índice para \"Index\"\n",
        "    df_concatenado.index.name = 'Index'\n",
        "\n",
        "    # Salvar o DataFrame concatenado em um novo arquivo CSV com índice\n",
        "    caminho_saida = os.path.join(caminho_pasta, 'FakeReal.csv')\n",
        "    df_concatenado.to_csv(caminho_saida, index=True)\n",
        "\n",
        "    print(f\"Arquivo concatenado salvo em: {caminho_saida}\")\n",
        "    return df_concatenado"
      ],
      "metadata": {
        "id": "lrm4Gggk_tVI"
      },
      "execution_count": null,
      "outputs": []
    },
    {
      "cell_type": "code",
      "source": [
        "resultado = concatenar_csv()\n",
        "print(resultado)"
      ],
      "metadata": {
        "colab": {
          "base_uri": "https://localhost:8080/"
        },
        "id": "VLXL-AMu_3sY",
        "outputId": "2cdd6dbc-ac8c-4c43-c978-afc4eddfa98e"
      },
      "execution_count": null,
      "outputs": [
        {
          "output_type": "stream",
          "name": "stdout",
          "text": [
            "Arquivo concatenado salvo em: ./concat_FatoFake.csv\n",
            "                                                  Título  \\\n",
            "Index                                                      \n",
            "0      é fake que vídeo mostre criminosos deixando de...   \n",
            "1      é fake que mamografia aumenta o risco de cânce...   \n",
            "2      é fake vídeo em que famosos usam camiseta com ...   \n",
            "3      é fake foto que mostra alexandre de moraes usa...   \n",
            "4      é fake que vinagre de álcool é recomendado par...   \n",
            "...                                                  ...   \n",
            "2539   empresário é preso em vitória por ligação com ...   \n",
            "2540   lula estuda novo xadrez ministerial com ajuste...   \n",
            "2541   compras internacionais recuam em mas arrecadaç...   \n",
            "2542   tom welling de smallville é preso nos estados ...   \n",
            "2543   vídeo polícia prende em flagrante dois ladrões...   \n",
            "\n",
            "                                                  Textos  É Fake  \n",
            "Index                                                             \n",
            "0      justiça determina devolução de armas de grosso...       1  \n",
            "1      quanto mais mamografia você fizer mais risco d...       1  \n",
            "2      adicione nosso número de whatsapp após adicion...       1  \n",
            "3      o juiz fake alexandre de moraes é um dos benef...       1  \n",
            "4      eu sou o presidente do comitê da dengue aqui d...       1  \n",
            "...                                                  ...     ...  \n",
            "2539   uma operação policial conjunta realizada no es...       0  \n",
            "2540   o presidente lula tem sinalizado nas últimas s...       0  \n",
            "2541   a secretaria da receita federal informou nesta...       0  \n",
            "2542   o ator tom welling conhecido por protagonizar ...       0  \n",
            "2543   a polícia civil prendeu em flagrante na tarde ...       0  \n",
            "\n",
            "[2544 rows x 3 columns]\n"
          ]
        }
      ]
    }
  ]
}