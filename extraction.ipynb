{
 "cells": [
  {
   "cell_type": "code",
   "execution_count": 4,
   "metadata": {},
   "outputs": [],
   "source": [
    "# imports\n",
    "import re\n",
    "import string\n",
    "import time\n",
    "import os\n",
    "from os import path\n",
    "import pandas as pd\n",
    "from datetime import datetime, timezone"
   ]
  },
  {
   "cell_type": "code",
   "execution_count": 5,
   "metadata": {},
   "outputs": [],
   "source": [
    "# Criar arquivo CSV\n",
    "def baseArchive():\n",
    "    basePath = os.path.join(os.getcwd(), 'db', 'fakereal.csv')\n",
    "\n",
    "    if not path.exists(path.dirname(basePath)):\n",
    "        print(\"O diretório 'db' não existe.\")\n",
    "        return None\n",
    "\n",
    "    if not path.exists(basePath):\n",
    "        with open(basePath, 'w', encoding='utf-8') as baseArchive:\n",
    "            baseArchive.write('index,data,Titulo,Autor,Flair,URL,Subtitulo\\n')\n",
    "\n",
    "    return basePath\n"
   ]
  },
  {
   "cell_type": "code",
   "execution_count": null,
   "metadata": {},
   "outputs": [],
   "source": [
    "# limpeza\n",
    "def cleanSentence(phrase):\n",
    "    # Convertendo para minúsculas\n",
    "    phrase = phrase.lower()\n",
    "\n",
    "    # Removendo URLs\n",
    "    phrase = re.sub(r'http\\S+|www\\S+|https\\S+', '', phrase, flags=re.MULTILINE)\n",
    "\n",
    "    # Removendo números\n",
    "    phrase = re.sub(r'\\d+', '', phrase)\n",
    "\n",
    "    # Removendo pontuação\n",
    "    phrase = phrase.translate(str.maketrans('', '', string.punctuation))\n",
    "\n",
    "    # Removendo espaços extras\n",
    "    phrase = phrase.strip()\n",
    "\n",
    "    # Removendo múltiplos espaços\n",
    "    phrase = re.sub(r'\\s+', ' ', phrase)\n",
    "\n",
    "    return phrase\n",
    "    "
   ]
  },
  {
   "cell_type": "code",
   "execution_count": null,
   "metadata": {},
   "outputs": [],
   "source": []
  }
 ],
 "metadata": {
  "kernelspec": {
   "display_name": "Python 3",
   "language": "python",
   "name": "python3"
  },
  "language_info": {
   "codemirror_mode": {
    "name": "ipython",
    "version": 3
   },
   "file_extension": ".py",
   "mimetype": "text/x-python",
   "name": "python",
   "nbconvert_exporter": "python",
   "pygments_lexer": "ipython3",
   "version": "3.12.7"
  }
 },
 "nbformat": 4,
 "nbformat_minor": 2
}
