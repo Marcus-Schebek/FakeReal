{
  "cells": [
    {
      "cell_type": "code",
      "execution_count": 8,
      "metadata": {
        "id": "gn0cMrGK_mWk"
      },
      "outputs": [],
      "source": [
        "import requests\n",
        "from bs4 import BeautifulSoup\n",
        "import csv"
      ]
    },
    {
      "cell_type": "code",
      "execution_count": null,
      "metadata": {
        "id": "q0tJkcWLLOZ6"
      },
      "outputs": [],
      "source": []
    },
    {
      "cell_type": "code",
      "execution_count": 9,
      "metadata": {
        "id": "aex_0AAgAs_j"
      },
      "outputs": [],
      "source": [
        "# URL do site\n",
        "url = \"https://g1.globo.com/fato-ou-fake/\"\n",
        "\n",
        "# Fazendo a requisição HTTP\n",
        "response = requests.get(url)"
      ]
    },
    {
      "cell_type": "code",
      "execution_count": 10,
      "metadata": {
        "id": "jjIU7TftAxZ-"
      },
      "outputs": [],
      "source": [
        "# Função para buscar o conteúdo de um link\n",
        "def fetch_content(url):\n",
        "    response = requests.get(url)\n",
        "    if response.status_code == 200:\n",
        "        return response.content\n",
        "    else:\n",
        "        print(f\"Erro ao acessar {url}. Código de status: {response.status_code}\")\n",
        "        return None"
      ]
    },
    {
      "cell_type": "code",
      "execution_count": 11,
      "metadata": {
        "id": "Fq7ba5CREIdB"
      },
      "outputs": [],
      "source": [
        "def extract_links_from_page(page_url):\n",
        "    response = requests.get(page_url)\n",
        "    if response.status_code == 200:\n",
        "        soup = BeautifulSoup(response.content, 'html.parser')\n",
        "        articles_full_section = soup.find('div', class_=\"_evt\")\n",
        "        if articles_full_section:\n",
        "            links = articles_full_section.find_all('a', string=lambda text: text and \"É #FAKE\" in text)\n",
        "            return [link.get('href') for link in links]\n",
        "    else:\n",
        "        print(f\"Erro ao acessar {page_url}. Código de status: {response.status_code}\")\n",
        "        return []"
      ]
    },
    {
      "cell_type": "code",
      "execution_count": 12,
      "metadata": {
        "id": "RFZrvLGCLFcR"
      },
      "outputs": [],
      "source": [
        "def save_to_csv(data, filename='fato_ou_fake.csv'):\n",
        "    with open(filename, mode='w', newline='', encoding='utf-8') as file:\n",
        "        writer = csv.writer(file)\n",
        "        writer.writerow(['Título', 'Textos em Itálico'])\n",
        "        for item in data:\n",
        "            writer.writerow(item)"
      ]
    },
    {
      "cell_type": "code",
      "execution_count": 13,
      "metadata": {
        "id": "QoISyfb7LIY7"
      },
      "outputs": [],
      "source": [
        "def scrape_fato_ou_fake():\n",
        "    base_url = \"https://g1.globo.com/fato-ou-fake/index/feed/pagina-{}.ghtml\"\n",
        "    all_data = []\n",
        "\n",
        "    for page_num in range(1, 10):  # Iterar sobre as primeiras 100 páginas\n",
        "        page_url = base_url.format(page_num)\n",
        "        print(f\"Acessando página: {page_url}\")\n",
        "        links = extract_links_from_page(page_url)\n",
        "\n",
        "        for link_url in links:\n",
        "            print(f\"\\nAcessando o link: {link_url}\")\n",
        "            content = fetch_content(link_url)\n",
        "            if content:\n",
        "                link_soup = BeautifulSoup(content, 'html.parser')\n",
        "                title = link_soup.find('h1', class_='content-head__title')\n",
        "                title_text = title.text.strip() if title else \"Título não encontrado\"\n",
        "\n",
        "                italics = link_soup.find_all('em')\n",
        "                italics_text = \"\\n\".join([italic.text.strip() for italic in italics]) if italics else \"Nenhum texto em itálico encontrado\"\n",
        "\n",
        "                all_data.append([title_text, italics_text])\n",
        "\n",
        "    save_to_csv(all_data)\n",
        "    print(\"Dados salvos em 'fato_ou_fake.csv'\")"
      ]
    },
    {
      "cell_type": "code",
      "execution_count": 14,
      "metadata": {
        "colab": {
          "base_uri": "https://localhost:8080/"
        },
        "id": "8px6aZ6xLP4z",
        "outputId": "7be88e12-cbe9-439d-a33a-548d117f6ef8"
      },
      "outputs": [
        {
          "name": "stdout",
          "output_type": "stream",
          "text": [
            "Acessando página: https://g1.globo.com/fato-ou-fake/index/feed/pagina-1.ghtml\n",
            "\n",
            "Acessando o link: https://g1.globo.com/fato-ou-fake/noticia/2025/02/14/e-fake-foto-que-mostra-alexandre-de-moraes-usando-bone-da-usaid.ghtml\n",
            "\n",
            "Acessando o link: https://g1.globo.com/fato-ou-fake/video/e-fake-que-governo-entregou-administracao-de-14-do-territorio-brasileiro-para-empresa-13338513.ghtml\n",
            "\n",
            "Acessando o link: https://g1.globo.com/fato-ou-fake/noticia/2025/02/13/e-fake-que-vinagre-de-alcool-e-recomendado-para-combater-mosquito-da-dengue.ghtml\n",
            "\n",
            "Acessando o link: https://g1.globo.com/fato-ou-fake/noticia/2025/02/12/e-fake-post-que-usa-video-de-paolla-oliveira-para-anunciar-desconto-de-50percent-em-camarote-no-carnaval-2025-trata-se-de-golpe.ghtml\n",
            "\n",
            "Acessando o link: https://g1.globo.com/fato-ou-fake/video/e-fake-que-piloto-do-helicoptero-que-colidiu-com-aviao-nos-eua-era-uma-mulher-trans-13332403.ghtml\n",
            "\n",
            "Acessando o link: https://g1.globo.com/fato-ou-fake/noticia/2025/02/11/e-fake-que-procon-obteve-decisao-para-obrigar-operadoras-de-cartao-de-credito-a-pagar-cashback-a-clientes.ghtml\n",
            "\n",
            "Acessando o link: https://g1.globo.com/fato-ou-fake/noticia/2025/02/10/e-fake-post-que-diz-mostrar-familia-em-aviao-de-pequeno-porte-antes-de-acidente-em-mato-grosso-aeronave-do-video-real-nao-caiu.ghtml\n",
            "Acessando página: https://g1.globo.com/fato-ou-fake/index/feed/pagina-2.ghtml\n",
            "\n",
            "Acessando o link: https://g1.globo.com/fato-ou-fake/video/e-fake-que-video-de-caminhao-basculante-descarregando-cadaveres-foi-gravado-na-venezuela-13323402.ghtml\n",
            "\n",
            "Acessando o link: https://g1.globo.com/fato-ou-fake/noticia/2025/02/06/e-fake-que-governo-entregou-administracao-de-14percent-do-territorio-brasileiro-a-uma-empresa-privada.ghtml\n",
            "\n",
            "Acessando o link: https://g1.globo.com/fato-ou-fake/noticia/2025/02/05/e-fake-que-video-mostre-geraldo-alckmin-e-alexandre-moraes-sendo-hostilizados-em-brasilia.ghtml\n",
            "\n",
            "Acessando o link: https://g1.globo.com/fato-ou-fake/noticia/2025/02/05/e-fake-que-piloto-do-helicoptero-militar-que-colidiu-com-aviao-em-washington-era-uma-mulher-trans.ghtml\n",
            "\n",
            "Acessando o link: https://g1.globo.com/fato-ou-fake/video/e-fake-que-o-governo-federal-tenha-programa-de-descontos-no-ipva-13313779.ghtml\n",
            "\n",
            "Acessando o link: https://g1.globo.com/fato-ou-fake/noticia/2025/02/04/e-fake-que-trump-disse-que-se-negaria-a-fazer-negocios-com-brasil-enquanto-lula-estiver-no-poder.ghtml\n",
            "\n",
            "Acessando o link: https://g1.globo.com/fato-ou-fake/noticia/2025/02/03/e-fake-que-video-de-caminhao-basculante-descarregando-cadaveres-foi-gravado-na-venezuela.ghtml\n",
            "\n",
            "Acessando o link: https://g1.globo.com/fato-ou-fake/noticia/2025/02/03/e-fake-que-g1-publicou-reportagens-sobre-concurso-do-banco-do-brasil-perto-do-fim-das-inscricoes-trata-se-de-golpe.ghtml\n",
            "\n",
            "Acessando o link: https://g1.globo.com/fato-ou-fake/video/e-fake-que-globo-de-ouro-foi-comprado-e-que-ainda-estou-aqui-usou-lei-rouanet-13305219.ghtml\n",
            "\n",
            "Acessando o link: https://g1.globo.com/fato-ou-fake/noticia/2025/01/31/e-fake-foto-que-mostra-servico-de-imigracao-dos-eua-prendendo-homem-com-a-inscricao-latinos-for-trump-2024-na-camiseta.ghtml\n",
            "Acessando página: https://g1.globo.com/fato-ou-fake/index/feed/pagina-3.ghtml\n",
            "\n",
            "Acessando o link: https://g1.globo.com/fato-ou-fake/noticia/2025/01/30/e-fake-que-o-itau-unibanco-processou-ronaldo-por-fala-sobre-criptomoedas-na-tv.ghtml\n",
            "\n",
            "Acessando o link: https://g1.globo.com/fato-ou-fake/video/e-fake-que-video-de-alunos-posando-com-merenda-e-devolvendo-sem-comer-seja-na-venezuela-13297861.ghtml\n",
            "\n",
            "Acessando o link: https://g1.globo.com/fato-ou-fake/noticia/2025/01/29/e-fake-que-g1-publicou-que-receita-federal-faz-leilao-de-smartphones-e-eletrodomesticos-com-lance-fixo-trata-se-de-golpe.ghtml\n",
            "\n",
            "Acessando o link: https://g1.globo.com/fato-ou-fake/noticia/2025/01/28/e-fake-que-o-governo-comprou-o-globo-de-ouro-para-fernanda-torres.ghtml\n",
            "\n",
            "Acessando o link: https://g1.globo.com/fato-ou-fake/noticia/2025/01/27/e-fake-foto-de-trump-ao-lado-de-cadeira-com-nome-de-bolsonaro-imagem-e-de-inteligencia-artificial.ghtml\n",
            "\n",
            "Acessando o link: https://g1.globo.com/fato-ou-fake/video/e-fake-video-que-mostra-marcos-mion-anunciando-promocao-do-outback-13291515.ghtml\n",
            "\n",
            "Acessando o link: https://g1.globo.com/fato-ou-fake/video/e-fake-video-de-haddad-dizendo-que-vai-aumentar-impostos-dos-mais-pobres-13286742.ghtml\n",
            "\n",
            "Acessando o link: https://g1.globo.com/fato-ou-fake/noticia/2025/01/24/e-fake-que-ainda-estou-aqui-recebeu-recursos-da-lei-rouanet.ghtml\n",
            "\n",
            "Acessando o link: https://g1.globo.com/fato-ou-fake/noticia/2025/01/24/e-fake-que-o-governo-federal-tenha-programa-de-descontos-do-ipva-para-motoristas-sem-multas.ghtml\n",
            "\n",
            "Acessando o link: https://g1.globo.com/fato-ou-fake/noticia/2025/01/23/e-fake-que-instagram-forcou-usuarios-a-seguirem-contas-de-trump-e-de-seu-vice.ghtml\n",
            "Acessando página: https://g1.globo.com/fato-ou-fake/index/feed/pagina-4.ghtml\n",
            "\n",
            "Acessando o link: https://g1.globo.com/fato-ou-fake/noticia/2025/01/23/e-fake-pagina-que-imita-g1-e-anuncia-leilao-de-produtos-importados-na-amazon.ghtml\n",
            "\n",
            "Acessando o link: https://g1.globo.com/fato-ou-fake/noticia/2025/01/22/e-fake-que-video-que-mostra-tentativa-de-invasao-de-imigrantes-nos-eua-foi-feito-apos-posse-de-trump-imagens-sao-de-2023.ghtml\n",
            "\n",
            "Acessando o link: https://g1.globo.com/fato-ou-fake/noticia/2025/01/21/e-fake-video-de-haddad-dizendo-que-vai-aumentar-impostos-dos-mais-pobres.ghtml\n",
            "\n",
            "Acessando o link: https://g1.globo.com/fato-ou-fake/noticia/2025/01/21/e-fake-que-trump-voltou-a-considerar-proibicao-de-voos-do-brasil-para-os-eua-video-e-de-2020.ghtml\n",
            "\n",
            "Acessando o link: https://g1.globo.com/fato-ou-fake/noticia/2025/01/20/e-fake-pagina-que-imita-g1-e-fornece-link-para-cadastro-no-programa-voa-brasil.ghtml\n",
            "\n",
            "Acessando o link: https://g1.globo.com/fato-ou-fake/noticia/2025/01/17/e-fake-que-a-partir-de-janeiro-de-2025-quem-dirige-carro-automatico-precisa-mudar-carteira-de-motorista.ghtml\n",
            "\n",
            "Acessando o link: https://g1.globo.com/fato-ou-fake/noticia/2025/01/17/e-fake-que-bancos-deverao-limitar-saques-em-especie-a-partir-do-segundo-semestre.ghtml\n",
            "\n",
            "Acessando o link: https://g1.globo.com/fato-ou-fake/noticia/2025/01/16/e-fake-que-video-de-alunos-posando-com-merenda-para-foto-e-devolvendo-sem-comer-seja-na-venezuela.ghtml\n",
            "\n",
            "Acessando o link: https://g1.globo.com/fato-ou-fake/noticia/2025/01/16/e-fake-video-que-mostra-marcos-mion-anunciando-promocao-do-outback-trata-se-de-um-golpe.ghtml\n",
            "Acessando página: https://g1.globo.com/fato-ou-fake/index/feed/pagina-5.ghtml\n",
            "\n",
            "Acessando o link: https://g1.globo.com/fato-ou-fake/noticia/2025/01/15/e-fake-pagina-que-imita-a-globocom-e-simula-entrevista-com-rubens-menin.ghtml\n",
            "\n",
            "Acessando o link: https://g1.globo.com/fato-ou-fake/noticia/2025/01/15/e-fake-video-aereo-que-mostra-predios-pegando-fogo-em-los-angeles.ghtml\n",
            "\n",
            "Acessando o link: https://g1.globo.com/fato-ou-fake/noticia/2025/01/14/e-fake-que-o-governo-federal-estuda-taxa-ambiental-veicular.ghtml\n",
            "\n",
            "Acessando o link: https://g1.globo.com/fato-ou-fake/sao-paulo/noticia/2025/01/14/e-fake-que-diretor-do-hospital-das-clinicas-deu-dicas-de-como-evitar-gripe-e-que-tamiflu-e-feito-de-erva-doce.ghtml\n",
            "\n",
            "Acessando o link: https://g1.globo.com/fato-ou-fake/sao-paulo/noticia/2025/01/13/e-fake-video-que-mostra-ondas-gigantes-no-uruguai-em-post-com-alerta-de-tsunami.ghtml\n",
            "\n",
            "Acessando o link: https://g1.globo.com/fato-ou-fake/video/e-fake-que-incendio-na-california-atingiu-o-famoso-letreiro-de-hollywood-13252875.ghtml\n",
            "\n",
            "Acessando o link: https://g1.globo.com/fato-ou-fake/campinas-e-regiao/noticia/2025/01/10/e-fake-que-onca-atacou-cavalo-em-campinas-em-janeiro-de-2025.ghtml\n",
            "\n",
            "Acessando o link: https://g1.globo.com/fato-ou-fake/noticia/2025/01/10/e-fake-video-em-que-haddad-fala-em-cobrar-impostos-sobre-pets-e-gravidas.ghtml\n",
            "\n",
            "Acessando o link: https://g1.globo.com/fato-ou-fake/noticia/2025/01/10/e-fake-que-a-receita-federal-esteja-cobrando-imposto-do-pix-para-quem-recebe-mais-de-r-5-mil-golpe-envia-boleto-falso-a-vitimas.ghtml\n",
            "Acessando página: https://g1.globo.com/fato-ou-fake/index/feed/pagina-6.ghtml\n",
            "\n",
            "Acessando o link: https://g1.globo.com/fato-ou-fake/noticia/2025/01/10/e-fake-que-a-receita-federal-esteja-cobrando-imposto-do-pix-para-quem-recebe-mais-de-r-5-mil-golpe-envia-boleto-falso-a-vitimas.ghtml\n",
            "\n",
            "Acessando o link: https://g1.globo.com/fato-ou-fake/noticia/2025/01/09/e-fake-que-incendio-na-california-atingiu-o-famoso-letreiro-de-hollywood.ghtml\n",
            "\n",
            "Acessando o link: https://g1.globo.com/fato-ou-fake/noticia/2025/01/08/e-fake-pagina-que-imita-site-do-governo-federal-e-promete-saque-de-r-7-mil.ghtml\n",
            "\n",
            "Acessando o link: https://g1.globo.com/fato-ou-fake/noticia/2025/01/08/e-fake-que-spray-de-alga-trate-ou-previna-disfuncao-eretil.ghtml\n",
            "\n",
            "Acessando o link: https://g1.globo.com/fato-ou-fake/noticia/2025/01/07/e-fake-que-g1-publicou-que-fast-shop-faz-leilao-de-celular-de-mostruario-a-partir-de-r-13322.ghtml\n",
            "\n",
            "Acessando o link: https://g1.globo.com/fato-ou-fake/noticia/2025/01/06/e-fake-que-pf-apontou-fraude-na-mega-da-virada.ghtml\n",
            "\n",
            "Acessando o link: https://g1.globo.com/fato-ou-fake/noticia/2025/01/03/e-fake-que-g1-publicou-pagina-recomendando-prostzol-e-que-produto-previna-cancer-de-prostata.ghtml\n",
            "\n",
            "Acessando o link: https://g1.globo.com/fato-ou-fake/noticia/2024/12/27/e-fake-que-pino-em-ave-temperada-seja-dispositivo-antifurto-trata-se-de-um-termometro.ghtml\n",
            "\n",
            "Acessando o link: https://g1.globo.com/fato-ou-fake/noticia/2024/12/27/e-fake-que-cnh-tera-mudancas-na-renovacao-a-partir-de-janeiro.ghtml\n",
            "\n",
            "Acessando o link: https://g1.globo.com/fato-ou-fake/noticia/2024/12/19/e-fake-que-futuro-presidente-do-banco-central-disse-que-considera-artificial-a-alta-do-dolar.ghtml\n",
            "Acessando página: https://g1.globo.com/fato-ou-fake/index/feed/pagina-7.ghtml\n",
            "\n",
            "Acessando o link: https://g1.globo.com/fato-ou-fake/sao-paulo/noticia/2024/12/12/e-fake-imagem-de-suposto-pedido-de-certidao-de-obito-de-lula.ghtml\n",
            "\n",
            "Acessando o link: https://g1.globo.com/fato-ou-fake/noticia/2024/12/12/e-fake-video-em-que-homem-cita-bacteria-e-recomenda-produto-para-diabetes.ghtml\n",
            "\n",
            "Acessando o link: https://g1.globo.com/fato-ou-fake/video/e-fake-imagem-que-simula-pagina-do-g1-para-pedir-doacoes-a-crianca-com-linfoma-de-burkitt-13178890.ghtml\n",
            "\n",
            "Acessando o link: https://g1.globo.com/fato-ou-fake/noticia/2024/12/11/e-fake-foto-que-mostra-lula-com-a-cabeca-enfaixada.ghtml\n",
            "\n",
            "Acessando o link: https://g1.globo.com/fato-ou-fake/noticia/2024/12/03/e-fake-imagem-que-simula-pagina-do-g1-para-pedir-doacoes-a-crianca-com-linfoma-de-burkitt.ghtml\n",
            "\n",
            "Acessando o link: https://g1.globo.com/fato-ou-fake/noticia/2024/11/29/e-fake-pagina-que-imita-aparencia-g1-e-cita-leilao-dos-correios-com-iphone-e-outros-itens-com-lances-a-partir-de-r-8717.ghtml\n",
            "\n",
            "Acessando o link: https://g1.globo.com/fato-ou-fake/noticia/2024/11/28/e-fake-pagina-que-imita-aparencia-do-g1-e-menciona-voos-da-latam-na-black-friday.ghtml\n",
            "\n",
            "Acessando o link: https://g1.globo.com/fato-ou-fake/noticia/2024/11/28/e-fake-que-governo-federal-estuda-criar-imposto-para-donos-de-pets.ghtml\n",
            "\n",
            "Acessando o link: https://g1.globo.com/fato-ou-fake/noticia/2024/11/27/e-fake-que-miriam-leitao-assaltou-banco-e-que-foi-anistiada.ghtml\n",
            "\n",
            "Acessando o link: https://g1.globo.com/fato-ou-fake/espirito-santo/noticia/2024/11/22/e-fake-que-candidata-a-presidencia-da-oab-es-teve-candidatura-cassada-montagem-imita-aparencia-do-g1.ghtml\n",
            "Acessando página: https://g1.globo.com/fato-ou-fake/index/feed/pagina-8.ghtml\n",
            "\n",
            "Acessando o link: https://g1.globo.com/fato-ou-fake/minas-gerais/noticia/2024/11/21/e-fake-que-tuberculose-seja-transmitida-por-mosca-audio-falso-alarmista-circula-em-belo-horizonte.ghtml\n",
            "\n",
            "Acessando o link: https://g1.globo.com/fato-ou-fake/noticia/2024/11/21/e-fake-video-em-que-drauzio-varella-indica-suposto-emagrecedor.ghtml\n",
            "\n",
            "Acessando o link: https://g1.globo.com/fato-ou-fake/noticia/2024/11/19/e-fake-que-autor-de-atentado-perto-do-stf-foi-morto-a-tiros.ghtml\n",
            "\n",
            "Acessando o link: https://g1.globo.com/fato-ou-fake/noticia/2024/11/12/e-fake-video-que-sugere-que-trump-elogia-lula-apos-ser-eleito-presidente-dos-eua.ghtml\n",
            "\n",
            "Acessando o link: https://g1.globo.com/fato-ou-fake/noticia/2024/11/11/e-fake-que-g1-publicou-que-trump-disse-nao-negociar-com-lula.ghtml\n",
            "\n",
            "Acessando o link: https://g1.globo.com/fato-ou-fake/noticia/2024/11/08/e-fake-que-neymar-teve-anel-furtado-ao-cumprimentar-torcedor-na-arabia-saudita.ghtml\n",
            "\n",
            "Acessando o link: https://g1.globo.com/fato-ou-fake/noticia/2024/11/07/e-fake-que-video-mostre-choro-de-guga-chacra-apos-vitoria-de-trump.ghtml\n",
            "\n",
            "Acessando o link: https://g1.globo.com/fato-ou-fake/noticia/2024/11/04/e-fake-que-video-mostre-coleta-ilegal-de-cedulas-na-pensilvania.ghtml\n",
            "\n",
            "Acessando o link: https://g1.globo.com/fato-ou-fake/noticia/2024/11/04/e-fake-video-que-mostra-destruicao-de-cedulas-pro-trump-na-pensilvania.ghtml\n",
            "\n",
            "Acessando o link: https://g1.globo.com/fato-ou-fake/goias/noticia/2024/10/31/e-fake-que-o-g1-tenha-noticiado-que-a-pf-investiga-esquema-de-corrupcao-bilionario-no-governo-de-goias.ghtml\n",
            "Acessando página: https://g1.globo.com/fato-ou-fake/index/feed/pagina-9.ghtml\n",
            "\n",
            "Acessando o link: https://g1.globo.com/fato-ou-fake/noticia/2024/10/30/e-fake-que-cancer-de-mama-nao-existe.ghtml\n",
            "\n",
            "Acessando o link: https://g1.globo.com/ce/ceara/noticia/2024/10/30/e-fake-que-crianca-ataca-por-porca-no-ceara-vai-receber-dinheiro-por-compartilhamento-de-imagem.ghtml\n",
            "\n",
            "Acessando o link: https://g1.globo.com/fato-ou-fake/noticia/2024/10/29/e-fake-video-que-mostra-kamala-harris-bebada-em-conversa-com-mulheres-nas-filipinas.ghtml\n",
            "\n",
            "Acessando o link: https://g1.globo.com/fato-ou-fake/ceara/noticia/2024/10/26/e-fake-imagem-com-suposta-analise-da-tv-verdes-mares-e-globo-sobre-debate-entre-andre-fernandes-pl-e-evandro-leitao-pt.ghtml\n",
            "\n",
            "Acessando o link: https://g1.globo.com/fato-ou-fake/noticia/2024/10/24/e-fake-que-bradesco-ligue-para-pedir-senhas-ou-chave-pix-trata-se-de-golpe.ghtml\n",
            "\n",
            "Acessando o link: https://g1.globo.com/fato-ou-fake/rio-de-janeiro/noticia/2024/10/22/e-fake-que-show-de-lulu-santos-tenha-ficado-vazio-e-que-isso-tivesse-ocorrido-em-razao-do-apoio-a-lula-e-boulos.ghtml\n",
            "Dados salvos em 'fato_ou_fake.csv'\n"
          ]
        }
      ],
      "source": [
        "if __name__ == \"__main__\":\n",
        "    scrape_fato_ou_fake()"
      ]
    }
  ],
  "metadata": {
    "colab": {
      "provenance": [],
      "toc_visible": true
    },
    "kernelspec": {
      "display_name": "Python 3",
      "name": "python3"
    },
    "language_info": {
      "codemirror_mode": {
        "name": "ipython",
        "version": 3
      },
      "file_extension": ".py",
      "mimetype": "text/x-python",
      "name": "python",
      "nbconvert_exporter": "python",
      "pygments_lexer": "ipython3",
      "version": "3.12.7"
    }
  },
  "nbformat": 4,
  "nbformat_minor": 0
}
