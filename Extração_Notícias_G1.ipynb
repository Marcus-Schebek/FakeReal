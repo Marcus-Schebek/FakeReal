{
  "nbformat": 4,
  "nbformat_minor": 0,
  "metadata": {
    "colab": {
      "provenance": []
    },
    "kernelspec": {
      "name": "python3",
      "display_name": "Python 3"
    },
    "language_info": {
      "name": "python"
    }
  },
  "cells": [
    {
      "cell_type": "code",
      "execution_count": null,
      "metadata": {
        "id": "gn0cMrGK_mWk"
      },
      "outputs": [],
      "source": [
        "import requests\n",
        "from bs4 import BeautifulSoup\n",
        "import csv"
      ]
    },
    {
      "cell_type": "code",
      "source": [
        "# URL do site\n",
        "url = \"https://g1.globo.com/\"\n",
        "\n",
        "# Fazendo a requisição HTTP\n",
        "response = requests.get(url)"
      ],
      "metadata": {
        "id": "aex_0AAgAs_j"
      },
      "execution_count": null,
      "outputs": []
    },
    {
      "cell_type": "code",
      "source": [
        "# Função para buscar o conteúdo de um link\n",
        "def fetch_content(url):\n",
        "    response = requests.get(url)\n",
        "    if response.status_code == 200:\n",
        "        return response.content\n",
        "    else:\n",
        "        print(f\"Erro ao acessar {url}. Código de status: {response.status_code}\")\n",
        "        return None"
      ],
      "metadata": {
        "id": "jjIU7TftAxZ-"
      },
      "execution_count": null,
      "outputs": []
    },
    {
      "cell_type": "code",
      "source": [
        "def extract_links_from_page(page_url):\n",
        "    response = requests.get(page_url)\n",
        "    if response.status_code == 200:\n",
        "        soup = BeautifulSoup(response.content, 'html.parser')\n",
        "        articles_full_section = soup.find('div', class_=\"_evt\")\n",
        "        if articles_full_section:\n",
        "            links = articles_full_section.find_all('a')\n",
        "            return [link.get('href') for link in links]\n",
        "    else:\n",
        "        print(f\"Erro ao acessar {page_url}. Código de status: {response.status_code}\")\n",
        "        return []"
      ],
      "metadata": {
        "id": "Fq7ba5CREIdB"
      },
      "execution_count": null,
      "outputs": []
    },
    {
      "cell_type": "code",
      "source": [
        "# Função para salvar os dados em um arquivo CSV\n",
        "def save_to_csv(data, filename='fato_ou_fake-Fato.csv'):\n",
        "    with open(filename, mode='w', newline='', encoding='utf-8') as file:\n",
        "        writer = csv.writer(file)\n",
        "        writer.writerow(['Título', 'Textos', 'É Fake'])\n",
        "        for item in data:\n",
        "            writer.writerow(item)"
      ],
      "metadata": {
        "id": "RFZrvLGCLFcR"
      },
      "execution_count": null,
      "outputs": []
    },
    {
      "cell_type": "code",
      "source": [
        "def scrape_fato_ou_fake():\n",
        "    base_url = \"https://g1.globo.com/index/feed/pagina-{}.ghtml\"\n",
        "    all_data = []\n",
        "    processed_links = set()  # Conjunto para armazenar links já processados\n",
        "\n",
        "    for page_num in range(1, 250):\n",
        "        page_url = base_url.format(page_num)\n",
        "        print(f\"Acessando página: {page_url}\")\n",
        "        links = extract_links_from_page(page_url)\n",
        "\n",
        "        for link_url in links:\n",
        "            # Ignora links vazios\n",
        "            if not link_url:\n",
        "                print(\"Link vazio encontrado. Ignorando...\")\n",
        "                continue\n",
        "\n",
        "            # Ignora links duplicados\n",
        "            if link_url in processed_links:\n",
        "                print(f\"Link duplicado encontrado: {link_url}. Ignorando...\")\n",
        "                continue\n",
        "\n",
        "            # Adiciona o link ao conjunto de links processados\n",
        "            processed_links.add(link_url)\n",
        "\n",
        "            print(f\"\\nAcessando o link: {link_url}\")\n",
        "            content = fetch_content(link_url)\n",
        "            if content:\n",
        "                link_soup = BeautifulSoup(content, 'html.parser')\n",
        "                title = link_soup.find('h1', class_='content-head__title')\n",
        "                title_text = title.text.strip() if title else \"Título não encontrado\"\n",
        "\n",
        "                # Descarta o artigo se o título contiver \"É #FAKE\"\n",
        "                if \"É #FAKE\" in title_text:\n",
        "                    print(f\"Artigo descartado: {title_text}\")\n",
        "                    continue\n",
        "\n",
        "                # Extrai o texto de todos os parágrafos com a classe 'content-text__container'\n",
        "                paragraphs = link_soup.find_all('p', class_='content-text__container')\n",
        "                article_text = \"\\n\".join([p.text.strip() for p in paragraphs]) if paragraphs else \"Corpo do artigo não encontrado\"\n",
        "\n",
        "                # Adiciona os dados à lista com a flag \"É Fake\" = 0\n",
        "                all_data.append([title_text, article_text, 0])\n",
        "\n",
        "    save_to_csv(all_data)\n",
        "    print(\"Dados salvos em 'fato_ou_fake.csv'\")"
      ],
      "metadata": {
        "id": "QoISyfb7LIY7"
      },
      "execution_count": null,
      "outputs": []
    },
    {
      "cell_type": "code",
      "source": [
        "if __name__ == \"__main__\":\n",
        "    scrape_fato_ou_fake()"
      ],
      "metadata": {
        "colab": {
          "base_uri": "https://localhost:8080/"
        },
        "id": "8px6aZ6xLP4z",
        "outputId": "337a09ef-6319-4cd2-b871-f2062e538f04"
      },
      "execution_count": null,
      "outputs": [
        {
          "output_type": "stream",
          "name": "stdout",
          "text": [
            "Acessando página: https://g1.globo.com/index/feed/pagina-1.ghtml\n",
            "\n",
            "Acessando o link: https://g1.globo.com/politica/noticia/2025/02/19/pena-maxima-de-2-anos-e-protecao-para-a-familia-os-premios-pedidos-por-mauro-cid-na-delacao.ghtml\n",
            "Link duplicado encontrado: https://g1.globo.com/politica/noticia/2025/02/19/pena-maxima-de-2-anos-e-protecao-para-a-familia-os-premios-pedidos-por-mauro-cid-na-delacao.ghtml. Ignorando...\n",
            "\n",
            "Acessando o link: https://g1.globo.com/politica/noticia/2025/02/19/moraes-notifica-defesa-de-denunciados-pela-pgr-e-levanta-sigilo-da-delacao-de-mauro-cid.ghtml\n",
            "\n",
            "Acessando o link: https://g1.globo.com/politica/blog/andreia-sadi/post/2025/02/19/mauro-cid-contou-em-delacao-que-flavio-bolsonaro-eduardo.ghtml\n",
            "Link duplicado encontrado: https://g1.globo.com/politica/blog/andreia-sadi/post/2025/02/19/mauro-cid-contou-em-delacao-que-flavio-bolsonaro-eduardo.ghtml. Ignorando...\n",
            "\n",
            "Acessando o link: https://g1.globo.com/politica/blog/andreia-sadi/post/2025/02/19/grupo-moderado-temia-que-radicais-levassem-bolsonaro-a-assinar-doideira-diz-mauro-cid-em-delacao.ghtml\n",
            "\n",
            "Acessando o link: https://g1.globo.com/politica/blog/andreia-sadi/post/2025/02/19/stf-julgamento-bolsonaro-golpe-2025.ghtml\n",
            "Link duplicado encontrado: https://g1.globo.com/politica/blog/andreia-sadi/post/2025/02/19/stf-julgamento-bolsonaro-golpe-2025.ghtml. Ignorando...\n",
            "\n",
            "Acessando o link: https://g1.globo.com/politica/noticia/2025/02/18/entenda-os-principais-pontos-da-denuncia-da-pgr-contra-bolsonaro-e-seu-grupo-na-tentativa-de-golpe-de-estado.ghtml\n",
            "\n",
            "Acessando o link: https://g1.globo.com/politica/noticia/2025/02/18/defesa-diz-que-bolsonaro-esta-estarrecido-com-denuncia-sobre-tentativa-de-golpe-e-nega-envolvimento.ghtml\n",
            "\n",
            "Acessando o link: https://g1.globo.com/podcast/o-assunto/noticia/2025/02/19/o-assunto-1410-bolsonaro-denunciado-por-tentativa-de-golpe.ghtml\n",
            "\n",
            "Acessando o link: https://g1.globo.com/politica/noticia/2025/02/19/mundo-esta-atento-ao-que-acontece-no-brasil-diz-bolsonaro-apos-denuncia-da-pgr.ghtml\n",
            "Link duplicado encontrado: https://g1.globo.com/politica/noticia/2025/02/19/mundo-esta-atento-ao-que-acontece-no-brasil-diz-bolsonaro-apos-denuncia-da-pgr.ghtml. Ignorando...\n",
            "\n",
            "Acessando o link: https://g1.globo.com/politica/blog/camila-bomfim/post/2025/02/19/denunciado-bolsonaro-se-reune-com-a-oposicao-na-camara-para-discutir-anistia.ghtml\n",
            "\n",
            "Acessando o link: https://g1.globo.com/politica/blog/valdo-cruz/post/2025/02/19/aliados-de-bolsonaro-vao-insistir-na-tese-de-perseguicao-politica-mas-veem-condenacao-quase-certa.ghtml\n",
            "\n",
            "Acessando o link: https://g1.globo.com/politica/noticia/2025/02/19/lula-fala-sobre-denuncia-da-pgr-contra-bolsonaro-e-outros-33-por-armar-golpe-de-estado.ghtml\n",
            "Link duplicado encontrado: https://g1.globo.com/politica/noticia/2025/02/19/lula-fala-sobre-denuncia-da-pgr-contra-bolsonaro-e-outros-33-por-armar-golpe-de-estado.ghtml. Ignorando...\n",
            "\n",
            "Acessando o link: https://g1.globo.com/politica/noticia/2025/02/19/veja-quem-estava-no-relatorio-da-pf-por-suposta-tentativa-de-golpe-de-estado-mas-nao-aparece-na-denuncia-da-pgr.ghtml\n",
            "Link duplicado encontrado: https://g1.globo.com/politica/noticia/2025/02/19/veja-quem-estava-no-relatorio-da-pf-por-suposta-tentativa-de-golpe-de-estado-mas-nao-aparece-na-denuncia-da-pgr.ghtml. Ignorando...\n",
            "\n",
            "Acessando o link: https://g1.globo.com/politica/noticia/2025/02/19/saiba-as-diferencas-entre-o-relatorio-da-pf-e-a-denuncia-da-pgr-por-tentativa-de-golpe-de-estado.ghtml\n",
            "Link vazio encontrado. Ignorando...\n",
            "\n",
            "Acessando o link: https://g1.globo.com/sp/sao-paulo/noticia/2025/02/19/mais-um-motorista-de-aplicativo-morre-em-sp-em-razao-das-chuvas-na-cidade-em-menos-de-20-dias-mulher-de-47-anos-deixa-uma-filha.ghtml\n",
            "Link duplicado encontrado: https://g1.globo.com/sp/sao-paulo/noticia/2025/02/19/mais-um-motorista-de-aplicativo-morre-em-sp-em-razao-das-chuvas-na-cidade-em-menos-de-20-dias-mulher-de-47-anos-deixa-uma-filha.ghtml. Ignorando...\n",
            "\n",
            "Acessando o link: https://g1.globo.com/sp/sao-paulo/noticia/2025/02/19/video-viatura-da-cet-submerge-na-enxurrada-e-funcionarios-sobem-no-capo-para-amarrar-carro-em-poste-para-nao-ser-levado.ghtml\n",
            "\n",
            "Acessando o link: https://g1.globo.com/playlist/videos-para-assistir-agora.ghtml\n",
            "Link duplicado encontrado: https://g1.globo.com/playlist/videos-para-assistir-agora.ghtml. Ignorando...\n",
            "\n",
            "Acessando o link: https://g1.globo.com/index/feed/pagina-4.ghtml\n",
            "Acessando página: https://g1.globo.com/index/feed/pagina-2.ghtml\n",
            "\n",
            "Acessando o link: https://g1.globo.com/economia/agronegocios/noticia/2025/02/19/governo-apreende-produtos-suspeitos-de-serem-cafe-fake-materia-prima-tem-casca-e-graos-com-defeitos.ghtml\n",
            "\n",
            "Acessando o link: https://g1.globo.com/mt/mato-grosso/noticia/2025/02/19/mortes-de-amigas-em-tribunal-do-crime-foram-transmitidas-por-videochamada-para-preso-que-encomendou-crime-em-mt-diz-delegado.ghtml\n",
            "Link duplicado encontrado: https://g1.globo.com/mt/mato-grosso/noticia/2025/02/19/mortes-de-amigas-em-tribunal-do-crime-foram-transmitidas-por-videochamada-para-preso-que-encomendou-crime-em-mt-diz-delegado.ghtml. Ignorando...\n",
            "\n",
            "Acessando o link: https://g1.globo.com/sc/santa-catarina/noticia/2025/02/19/adolescente-morta-rio-sc-sonhava-perita-criminal-diz-mae.ghtml\n",
            "\n",
            "Acessando o link: https://g1.globo.com/rj/rio-de-janeiro/noticia/2025/02/19/elevador-do-hospital-do-fundao-despenca.ghtml\n",
            "Link duplicado encontrado: https://g1.globo.com/rj/rio-de-janeiro/noticia/2025/02/19/elevador-do-hospital-do-fundao-despenca.ghtml. Ignorando...\n",
            "\n",
            "Acessando o link: https://g1.globo.com/pe/caruaru-regiao/noticia/2025/02/18/video-multidao-invade-carro-da-policia-e-lincha-suspeito-de-assassinar-crianca-de-dois-anos-em-tabira.ghtml\n",
            "Link duplicado encontrado: https://g1.globo.com/pe/caruaru-regiao/noticia/2025/02/18/video-multidao-invade-carro-da-policia-e-lincha-suspeito-de-assassinar-crianca-de-dois-anos-em-tabira.ghtml. Ignorando...\n",
            "\n",
            "Acessando o link: https://g1.globo.com/pe/caruaru-regiao/noticia/2025/02/19/eu-nao-abandonei-meu-filho-diz-mae-de-arthur-de-2-anos-morto-em-tabira-suspeito-foi-preso-linchado-por-populares-e-morreu.ghtml\n",
            "Link vazio encontrado. Ignorando...\n",
            "\n",
            "Acessando o link: https://g1.globo.com/mundo/noticia/2025/02/19/papa-francisco-esta-alerta-e-brincamos-como-sempre-diz-primeira-ministra-da-italia-apos-visita.ghtml\n",
            "Link duplicado encontrado: https://g1.globo.com/mundo/noticia/2025/02/19/papa-francisco-esta-alerta-e-brincamos-como-sempre-diz-primeira-ministra-da-italia-apos-visita.ghtml. Ignorando...\n",
            "\n",
            "Acessando o link: https://g1.globo.com/mundo/noticia/2025/02/19/papa-tem-noite-tranquila-apos-diagnostico-de-pneumonia-bilateral-diz-vaticano.ghtml\n",
            "\n",
            "Acessando o link: https://g1.globo.com/saude/noticia/2025/02/18/pneumonia-bilateral-entenda-condica-do-papa-francisco.ghtml\n",
            "\n",
            "Acessando o link: https://g1.globo.com/rj/rio-de-janeiro/noticia/2025/02/19/ex-bbb-importunacao-sexual-restaurante.ghtml\n",
            "Link duplicado encontrado: https://g1.globo.com/rj/rio-de-janeiro/noticia/2025/02/19/ex-bbb-importunacao-sexual-restaurante.ghtml. Ignorando...\n",
            "\n",
            "Acessando o link: https://g1.globo.com/df/distrito-federal/noticia/2025/02/19/prints-de-mensagens-mostram-que-suspeito-de-assediar-amiga-da-esposa-elogiou-fotos-intimas-da-vitima-encontradas-em-celular.ghtml\n",
            "\n",
            "Acessando o link: https://g1.globo.com/index/feed/pagina-3.ghtml\n",
            "Acessando página: https://g1.globo.com/index/feed/pagina-3.ghtml\n",
            "Link duplicado encontrado: https://g1.globo.com/pe/caruaru-regiao/noticia/2025/02/18/video-multidao-invade-carro-da-policia-e-lincha-suspeito-de-assassinar-crianca-de-dois-anos-em-tabira.ghtml. Ignorando...\n",
            "Link duplicado encontrado: https://g1.globo.com/pe/caruaru-regiao/noticia/2025/02/18/video-multidao-invade-carro-da-policia-e-lincha-suspeito-de-assassinar-crianca-de-dois-anos-em-tabira.ghtml. Ignorando...\n",
            "Link duplicado encontrado: https://g1.globo.com/pe/caruaru-regiao/noticia/2025/02/19/eu-nao-abandonei-meu-filho-diz-mae-de-arthur-de-2-anos-morto-em-tabira-suspeito-foi-preso-linchado-por-populares-e-morreu.ghtml. Ignorando...\n",
            "Link duplicado encontrado: https://g1.globo.com/rj/rio-de-janeiro/noticia/2025/02/19/ex-bbb-importunacao-sexual-restaurante.ghtml. Ignorando...\n",
            "Link duplicado encontrado: https://g1.globo.com/rj/rio-de-janeiro/noticia/2025/02/19/ex-bbb-importunacao-sexual-restaurante.ghtml. Ignorando...\n",
            "Link duplicado encontrado: https://g1.globo.com/df/distrito-federal/noticia/2025/02/19/prints-de-mensagens-mostram-que-suspeito-de-assediar-amiga-da-esposa-elogiou-fotos-intimas-da-vitima-encontradas-em-celular.ghtml. Ignorando...\n",
            "\n",
            "Acessando o link: https://ge.globo.com/tenis/noticia/2025/02/19/tenista-inglesa-chora-e-paralisa-jogo-ao-ver-stalker-na-arquibancada-video.ghtml\n",
            "Link duplicado encontrado: https://ge.globo.com/tenis/noticia/2025/02/19/tenista-inglesa-chora-e-paralisa-jogo-ao-ver-stalker-na-arquibancada-video.ghtml. Ignorando...\n",
            "Link duplicado encontrado: https://g1.globo.com/mundo/noticia/2025/02/19/papa-francisco-esta-alerta-e-brincamos-como-sempre-diz-primeira-ministra-da-italia-apos-visita.ghtml. Ignorando...\n",
            "Link duplicado encontrado: https://g1.globo.com/mundo/noticia/2025/02/19/papa-francisco-esta-alerta-e-brincamos-como-sempre-diz-primeira-ministra-da-italia-apos-visita.ghtml. Ignorando...\n",
            "Link duplicado encontrado: https://g1.globo.com/mundo/noticia/2025/02/19/papa-tem-noite-tranquila-apos-diagnostico-de-pneumonia-bilateral-diz-vaticano.ghtml. Ignorando...\n",
            "Link duplicado encontrado: https://g1.globo.com/saude/noticia/2025/02/18/pneumonia-bilateral-entenda-condica-do-papa-francisco.ghtml. Ignorando...\n",
            "\n",
            "Acessando o link: https://g1.globo.com/ba/bahia/noticia/2025/02/19/operacao-policial-contra-investigados-por-homicidios-e-trafico-de-drogas-em-salvador.ghtml\n",
            "Link duplicado encontrado: https://g1.globo.com/ba/bahia/noticia/2025/02/19/operacao-policial-contra-investigados-por-homicidios-e-trafico-de-drogas-em-salvador.ghtml. Ignorando...\n",
            "\n",
            "Acessando o link: https://g1.globo.com/pe/pernambuco/noticia/2025/02/19/chacina-no-grande-recife-veja-o-que-se-sabe-e-o-que-falta-saber-sobre-execucao-de-seis-homens-de-uma-mesma-familia.ghtml\n",
            "\n",
            "Acessando o link: https://g1.globo.com/rj/rio-de-janeiro/carnaval/2025/noticia/2025/02/19/museu-do-amanha-cerca-espelho-dagua.ghtml\n",
            "Link duplicado encontrado: https://g1.globo.com/rj/rio-de-janeiro/carnaval/2025/noticia/2025/02/19/museu-do-amanha-cerca-espelho-dagua.ghtml. Ignorando...\n",
            "\n",
            "Acessando o link: https://g1.globo.com/sp/sao-paulo/carnaval/2025/noticia/2025/02/19/musa-da-dragoes-da-real-conhecida-por-bumbum-que-desconcentra-calcula-ter-investido-quase-r-200-mil-neste-carnaval.ghtml\n",
            "Link duplicado encontrado: https://g1.globo.com/sp/sao-paulo/carnaval/2025/noticia/2025/02/19/musa-da-dragoes-da-real-conhecida-por-bumbum-que-desconcentra-calcula-ter-investido-quase-r-200-mil-neste-carnaval.ghtml. Ignorando...\n",
            "\n",
            "Acessando o link: https://g1.globo.com/sp/sao-paulo/carnaval/2025/noticia/2025/02/19/ex-nx-zero-di-ferrero-estreia-bloco-proprio-no-carnaval-de-rua-de-sp-se-fui-triste-nao-me-lembro.ghtml\n",
            "\n",
            "Acessando o link: https://g1.globo.com/rj/rio-de-janeiro/carnaval/2025/noticia/2025/02/19/de-saida-da-sapucai-neguinho-da-beija-flor-descarta-aposentadoria-moreira-da-silva-cantou-ate-os-99-vou-ver-se-consigo-chegar-la.ghtml\n",
            "Link duplicado encontrado: https://g1.globo.com/index/feed/pagina-4.ghtml. Ignorando...\n",
            "Acessando página: https://g1.globo.com/index/feed/pagina-4.ghtml\n",
            "Link vazio encontrado. Ignorando...\n",
            "\n",
            "Acessando o link: https://g1.globo.com/pop-arte/musica/noticia/2025/02/19/como-oruam-chegou-ao-topo-das-paradas-por-que-ficou-famoso-e-qual-o-perfil-dos-fas.ghtml\n",
            "Link duplicado encontrado: https://g1.globo.com/pop-arte/musica/noticia/2025/02/19/como-oruam-chegou-ao-topo-das-paradas-por-que-ficou-famoso-e-qual-o-perfil-dos-fas.ghtml. Ignorando...\n",
            "\n",
            "Acessando o link: https://g1.globo.com/pop-arte/musica/noticia/2025/02/19/ne-yo-e-suas-tres-namoradas-como-e-a-relacao-poliamorosa-do-cantor-americano.ghtml\n",
            "\n",
            "Acessando o link: https://g1.globo.com/pop-arte/cinema/noticia/2025/02/19/o-brutalista-vale-cada-uma-de-suas-mais-de-3-horas-com-direcao-precisa-e-adrien-brody-magnetico-g1-ja-viu.ghtml\n",
            "Link duplicado encontrado: https://g1.globo.com/pop-arte/cinema/noticia/2025/02/19/o-brutalista-vale-cada-uma-de-suas-mais-de-3-horas-com-direcao-precisa-e-adrien-brody-magnetico-g1-ja-viu.ghtml. Ignorando...\n",
            "\n",
            "Acessando o link: https://g1.globo.com/df/distrito-federal/noticia/2025/02/19/crime-da-113-sul-ganha-serie-documental-no-globoplay.ghtml\n",
            "Link duplicado encontrado: https://g1.globo.com/df/distrito-federal/noticia/2025/02/19/crime-da-113-sul-ganha-serie-documental-no-globoplay.ghtml. Ignorando...\n",
            "\n",
            "Acessando o link: https://g1.globo.com/saude/noticia/2025/02/19/por-que-sempre-temos-um-espaco-para-o-doce-estudo-explica-o-estomago-para-sobremesa.ghtml\n",
            "Link duplicado encontrado: https://g1.globo.com/saude/noticia/2025/02/19/por-que-sempre-temos-um-espaco-para-o-doce-estudo-explica-o-estomago-para-sobremesa.ghtml. Ignorando...\n",
            "\n",
            "Acessando o link: https://g1.globo.com/meio-ambiente/noticia/2025/02/19/dezenas-de-baleias-serao-sacrificadas-apos-encalhe-em-massa-na-australia.ghtml\n",
            "Link duplicado encontrado: https://g1.globo.com/meio-ambiente/noticia/2025/02/19/dezenas-de-baleias-serao-sacrificadas-apos-encalhe-em-massa-na-australia.ghtml. Ignorando...\n",
            "\n",
            "Acessando o link: https://g1.globo.com/meio-ambiente/noticia/2025/02/19/autoridades-chamam-de-selvagem-movimento-de-turistas-aos-pes-do-vulcao-etna-na-italia.ghtml\n",
            "\n",
            "Acessando o link: https://g1.globo.com/rj/rio-de-janeiro/noticia/2025/02/19/policia-prende-suspeito-de-roubar-casas-de-luxo-na-zona-sul-imagens-mostram-invasao-a-casa-do-presidente-do-botafogo.ghtml\n",
            "Link duplicado encontrado: https://g1.globo.com/rj/rio-de-janeiro/noticia/2025/02/19/policia-prende-suspeito-de-roubar-casas-de-luxo-na-zona-sul-imagens-mostram-invasao-a-casa-do-presidente-do-botafogo.ghtml. Ignorando...\n",
            "\n",
            "Acessando o link: https://g1.globo.com/index/feed/pagina-5.ghtml\n",
            "Dados salvos em 'fato_ou_fake.csv'\n"
          ]
        }
      ]
    }
  ]
}